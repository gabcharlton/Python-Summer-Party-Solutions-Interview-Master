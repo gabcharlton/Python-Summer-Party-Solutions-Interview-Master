{
  "cells": [
    {
      "cell_type": "markdown",
      "metadata": {},
      "source": [
        "# Day 3: Disney Parks Guest Spending Behavior"
      ]
    },
    {
      "cell_type": "markdown",
      "metadata": {},
      "source": [
        "You are a data analyst working with the Disney Parks revenue team to understand nuanced guest spending patterns across different park experiences. The team wants to develop a comprehensive view of visitor purchasing behaviors. Your goal is to uncover meaningful insights that can drive personalized marketing strategies."
      ]
    },
    {
      "cell_type": "code",
      "metadata": {},
      "execution_count": null,
      "outputs": [],
      "source": "import pandas as pd\nimport numpy as np\n\nfct_guest_spending_data = [\n  {\n    \"guest_id\": 1,\n    \"visit_date\": \"2024-07-05\",\n    \"amount_spent\": 50,\n    \"park_experience_type\": \"Attraction\"\n  },\n  {\n    \"guest_id\": 2,\n    \"visit_date\": \"2024-07-06\",\n    \"amount_spent\": 30,\n    \"park_experience_type\": \"Dining\"\n  },\n  {\n    \"guest_id\": 3,\n    \"visit_date\": \"2024-07-10\",\n    \"amount_spent\": 20.5,\n    \"park_experience_type\": \"Retail\"\n  },\n  {\n    \"guest_id\": 4,\n    \"visit_date\": \"2024-07-12\",\n    \"amount_spent\": 40,\n    \"park_experience_type\": \"Entertainment\"\n  },\n  {\n    \"guest_id\": 1,\n    \"visit_date\": \"2024-07-15\",\n    \"amount_spent\": 35,\n    \"park_experience_type\": \"Dining\"\n  },\n  {\n    \"guest_id\": 5,\n    \"visit_date\": \"2024-07-20\",\n    \"amount_spent\": 60,\n    \"park_experience_type\": \"Attraction\"\n  },\n  {\n    \"guest_id\": 6,\n    \"visit_date\": \"2024-07-25\",\n    \"amount_spent\": 25,\n    \"park_experience_type\": \"Retail\"\n  },\n  {\n    \"guest_id\": 1,\n    \"visit_date\": \"2024-08-03\",\n    \"amount_spent\": 55,\n    \"park_experience_type\": \"Attraction\"\n  },\n  {\n    \"guest_id\": 1,\n    \"visit_date\": \"2024-08-15\",\n    \"amount_spent\": 45,\n    \"park_experience_type\": \"Dining\"\n  },\n  {\n    \"guest_id\": 2,\n    \"visit_date\": \"2024-08-05\",\n    \"amount_spent\": 22,\n    \"park_experience_type\": \"Retail\"\n  },\n  {\n    \"guest_id\": 2,\n    \"visit_date\": \"2024-08-20\",\n    \"amount_spent\": 38,\n    \"park_experience_type\": \"Entertainment\"\n  },\n  {\n    \"guest_id\": 7,\n    \"visit_date\": \"2024-08-10\",\n    \"amount_spent\": 15,\n    \"park_experience_type\": \"Character Meet\"\n  },\n  {\n    \"guest_id\": 3,\n    \"visit_date\": \"2024-08-25\",\n    \"amount_spent\": 28,\n    \"park_experience_type\": \"Retail\"\n  },\n  {\n    \"guest_id\": 3,\n    \"visit_date\": \"2024-08-27\",\n    \"amount_spent\": 32,\n    \"park_experience_type\": \"Dining\"\n  },\n  {\n    \"guest_id\": 1,\n    \"visit_date\": \"2024-09-02\",\n    \"amount_spent\": 65,\n    \"park_experience_type\": \"Attraction\"\n  },\n  {\n    \"guest_id\": 8,\n    \"visit_date\": \"2024-09-05\",\n    \"amount_spent\": 50,\n    \"park_experience_type\": \"Retail\"\n  },\n  {\n    \"guest_id\": 9,\n    \"visit_date\": \"2024-09-15\",\n    \"amount_spent\": 40,\n    \"park_experience_type\": \"Dining\"\n  },\n  {\n    \"guest_id\": 10,\n    \"visit_date\": \"2024-09-20\",\n    \"amount_spent\": 70,\n    \"park_experience_type\": \"Entertainment\"\n  },\n  {\n    \"guest_id\": 1,\n    \"visit_date\": \"2024-09-25\",\n    \"amount_spent\": 35,\n    \"park_experience_type\": \"Dining\"\n  },\n  {\n    \"guest_id\": 8,\n    \"visit_date\": \"2024-09-28\",\n    \"amount_spent\": 10,\n    \"park_experience_type\": \"Character Meet\"\n  }\n]\nfct_guest_spending = pd.DataFrame(fct_guest_spending_data)\n"
    },
    {
      "cell_type": "markdown",
      "metadata": {},
      "source": [
        "## Question 1\n\nWhat is the average spending per guest per visit for each park experience type during July 2024? Ensure that park experience types with no recorded transactions are shown with an average spending of 0.0. This analysis helps establish baseline spending differences essential for later segmentation."
      ]
    },
    {
      "cell_type": "code",
      "metadata": {},
      "execution_count": null,
      "outputs": [],
      "source": "# Note: pandas and numpy are already imported as pd and np\n# The following tables are loaded as pandas DataFrames with the same names: fct_guest_spending\n# Please print your final result or dataframe\n\n# 1) filter for dates and convert na/nulls and empty values to 0.0\nstart_date = '2024-07-01'\nend_date = '2024-07-31'\n\ndf1 = fct_guest_spending[(fct_guest_spending['visit_date'] >= start_date) & (fct_guest_spending['visit_date'] <= end_date)]\n#print(df1)\n\navg_spend_per_guest = df1.groupby(['guest_id', 'park_experience_type', 'visit_date'])['amount_spent'].sum().reset_index()\n#print(avg_spend_per_guest)\navg_spend_per_guest_dt = avg_spend_per_guest.groupby(['park_experience_type'])['amount_spent'].mean().reset_index()\n#print(avg_spend_per_guest_dt)\n\npark_ex_types = fct_guest_spending['park_experience_type'].unique()\npet_spending = pd.DataFrame({'park_experience_type': park_ex_types})\n\nfinal_df = pd.merge(pet_spending, avg_spend_per_guest_dt, \n                   on = 'park_experience_type',\n                   how='left').fillna(0.0)\n\nprint(final_df)"
    },
    {
      "cell_type": "markdown",
      "metadata": {},
      "source": [
        "## Question 2\n\nFor guests who visited our parks more than once in August 2024, what is the difference in spending between their first and their last visit? This investigation, using sequential analysis, will reveal any shifts in guest spending behavior over multiple visits."
      ]
    },
    {
      "cell_type": "code",
      "metadata": {},
      "execution_count": null,
      "outputs": [],
      "source": "# Note: pandas and numpy are already imported as pd and np\n# The following tables are loaded as pandas DataFrames with the same names: fct_guest_spending\n# Please print your final result or dataframe\n\n# 1) filter for dates, Aug 2024\nstart_date = '2024-08-01'\nend_date = '2024-08-31'\n\ndf1 = fct_guest_spending[(fct_guest_spending['visit_date'] >= start_date) & (fct_guest_spending['visit_date'] <= end_date)]\n#print(df1)\n\n# 2) get total spend per guest\ntot_spend_per_guest = df1.groupby(['guest_id', 'visit_date'])['amount_spent'].sum().reset_index()\n\n#3) get only customers who visited more than once in Aug 2024\ntot_visits = tot_spend_per_guest['guest_id'].value_counts()\nmulti_guests = tot_visits[tot_visits > 1].index\nonly_multi_guests = tot_spend_per_guest[tot_spend_per_guest['guest_id'].isin(multi_guests)]\n\n# 3) get total spend for first and last visit\nfirst_visit = only_multi_guests.sort_values(['guest_id', 'visit_date']).groupby('guest_id').first().rename(columns={'amount_spent': 'first_vist_spend'})\nlast_visit = only_multi_guests.sort_values(['guest_id', 'visit_date']).groupby('guest_id').last().rename(columns={'amount_spent': 'last_vist_spend'})\n\n# 4) compare the two values\ncomparing_spend = first_visit[['first_vist_spend']].merge(\n  last_visit[['last_vist_spend']],\n  left_index=True, right_index=True\n).reset_index()\n\ncomparing_spend['spending_diff'] = comparing_spend['last_vist_spend'] - comparing_spend['first_vist_spend']\n\nprint(comparing_spend)"
    },
    {
      "cell_type": "markdown",
      "metadata": {},
      "source": [
        "## Question 3\n\nIn September 2024, how can guests be categorized into distinct spending segments such as Low, Medium, and High based on their total spending? Use the following thresholds for categorization: \n-Low: Includes values from $0 up to, but not including, $50.\n-Medium: Includes values from $50 up to, but not including, $100.\n-High: Includes values from $100 and above. \nExclude guests who did not make any purchases in the period."
      ]
    },
    {
      "cell_type": "code",
      "metadata": {},
      "execution_count": null,
      "outputs": [],
      "source": "# Filter for Sep 2024 and positive spend\nstart_date = '2024-09-01'\nend_date = '2024-09-30'\ndf1 = fct_guest_spending[\n    (fct_guest_spending['visit_date'] >= start_date) &\n    (fct_guest_spending['visit_date'] <= end_date)\n]\ndf2 = df1[df1['amount_spent'] > 0]\n\n# Get total spending per guest\ntot_spend_per_guest = df2.groupby(['guest_id'])['amount_spent'].sum().reset_index()\n\n# Categorize spending\ndef big_spender_sorter(x):\n    if 0 <= x < 50:\n        return 'Low'\n    elif 50 <= x < 100:\n        return 'Medium'\n    elif x >= 100:\n        return 'High'\n\ntot_spend_per_guest['big_spender_categorizer'] = tot_spend_per_guest['amount_spent'].apply(big_spender_sorter)\n\n# Final result\nprint(tot_spend_per_guest)"
    },
    {
      "cell_type": "markdown",
      "metadata": {},
      "source": [
        "Made with ❤️ by [Interview Master](https://www.interviewmaster.ai)"
      ]
    }
  ],
  "metadata": {
    "kernelspec": {
      "name": "python3",
      "language": "python",
      "display_name": "Python 3"
    },
    "language_info": {
      "name": "python",
      "version": "3",
      "mimetype": "text/x-python",
      "file_extension": ".py"
    }
  },
  "nbformat": 4,
  "nbformat_minor": 5
}