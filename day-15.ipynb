{
  "cells": [
    {
      "cell_type": "markdown",
      "metadata": {},
      "source": [
        "# Day 15: UberPool Driver Earnings Optimization Strategies"
      ]
    },
    {
      "cell_type": "markdown",
      "metadata": {},
      "source": [
        "You are a Business Analyst on the Uber Pool Product Team working to optimize driver compensation. The team aims to understand how trip characteristics impact driver earnings. Your goal is to develop data-driven recommendations that maximize driver earnings potential."
      ]
    },
    {
      "cell_type": "code",
      "metadata": {},
      "execution_count": null,
      "outputs": [],
      "source": "import pandas as pd\nimport numpy as np\n\nfct_trips_data = [\n  {\n    \"trip_id\": 101,\n    \"driver_id\": 1,\n    \"ride_type\": \"UberPool\",\n    \"trip_date\": \"2024-07-05\",\n    \"rider_count\": 3,\n    \"total_distance\": 10.5,\n    \"total_earnings\": 22.5\n  },\n  {\n    \"trip_id\": 102,\n    \"driver_id\": 1,\n    \"ride_type\": \"UberPool\",\n    \"trip_date\": \"2024-07-15\",\n    \"rider_count\": 2,\n    \"total_distance\": 8,\n    \"total_earnings\": 18\n  },\n  {\n    \"trip_id\": 103,\n    \"driver_id\": 2,\n    \"ride_type\": \"UberPool\",\n    \"trip_date\": \"2024-08-10\",\n    \"rider_count\": 4,\n    \"total_distance\": 15,\n    \"total_earnings\": 35\n  },\n  {\n    \"trip_id\": 104,\n    \"driver_id\": 3,\n    \"ride_type\": \"UberX\",\n    \"trip_date\": \"2024-07-20\",\n    \"rider_count\": 1,\n    \"total_distance\": 5,\n    \"total_earnings\": 12\n  },\n  {\n    \"trip_id\": 105,\n    \"driver_id\": 2,\n    \"ride_type\": \"UberPool\",\n    \"trip_date\": \"2024-09-01\",\n    \"rider_count\": 3,\n    \"total_distance\": 12,\n    \"total_earnings\": 30\n  },\n  {\n    \"trip_id\": 106,\n    \"driver_id\": 4,\n    \"ride_type\": \"UberPool\",\n    \"trip_date\": \"2024-09-15\",\n    \"rider_count\": 5,\n    \"total_distance\": 20,\n    \"total_earnings\": 50\n  },\n  {\n    \"trip_id\": 107,\n    \"driver_id\": 4,\n    \"ride_type\": \"UberPool\",\n    \"trip_date\": \"2024-10-01\",\n    \"rider_count\": 3,\n    \"total_distance\": 9,\n    \"total_earnings\": 25\n  },\n  {\n    \"trip_id\": 108,\n    \"driver_id\": 5,\n    \"ride_type\": \"UberPool\",\n    \"trip_date\": \"2024-08-25\",\n    \"rider_count\": 4,\n    \"total_distance\": 11,\n    \"total_earnings\": 28\n  },\n  {\n    \"trip_id\": 109,\n    \"driver_id\": 1,\n    \"ride_type\": \"UberPool\",\n    \"trip_date\": \"2024-09-30\",\n    \"rider_count\": 3,\n    \"total_distance\": 6,\n    \"total_earnings\": 16\n  },\n  {\n    \"trip_id\": 110,\n    \"driver_id\": 2,\n    \"ride_type\": \"UberPool\",\n    \"trip_date\": \"2024-07-07\",\n    \"rider_count\": 2,\n    \"total_distance\": 7,\n    \"total_earnings\": 15\n  },\n  {\n    \"trip_id\": 111,\n    \"driver_id\": 3,\n    \"ride_type\": \"UberPool\",\n    \"trip_date\": \"2024-08-05\",\n    \"rider_count\": 4,\n    \"total_distance\": 13,\n    \"total_earnings\": 32\n  },\n  {\n    \"trip_id\": 112,\n    \"driver_id\": 5,\n    \"ride_type\": \"UberX\",\n    \"trip_date\": \"2024-09-10\",\n    \"rider_count\": 1,\n    \"total_distance\": 4,\n    \"total_earnings\": 10\n  },\n  {\n    \"trip_id\": 113,\n    \"driver_id\": 6,\n    \"ride_type\": \"UberPool\",\n    \"trip_date\": \"2024-07-30\",\n    \"rider_count\": 3,\n    \"total_distance\": 22,\n    \"total_earnings\": 45\n  },\n  {\n    \"trip_id\": 114,\n    \"driver_id\": 6,\n    \"ride_type\": \"UberPool\",\n    \"trip_date\": \"2024-08-22\",\n    \"rider_count\": 4,\n    \"total_distance\": 18,\n    \"total_earnings\": 42\n  },\n  {\n    \"trip_id\": 115,\n    \"driver_id\": 7,\n    \"ride_type\": \"UberPool\",\n    \"trip_date\": \"2024-09-21\",\n    \"rider_count\": 5,\n    \"total_distance\": 25,\n    \"total_earnings\": 60\n  }\n]\nfct_trips = pd.DataFrame(fct_trips_data)\n"
    },
    {
      "cell_type": "markdown",
      "metadata": {},
      "source": [
        "## Question 1\n\nWhat is the average driver earnings per completed UberPool ride with more than two riders between July 1st and September 30th, 2024? This analysis will help isolate trips that meet specific rider thresholds to understand their impact on driver earnings."
      ]
    },
    {
      "cell_type": "code",
      "metadata": {},
      "execution_count": null,
      "outputs": [],
      "source": "#filter trip_date\nstart_date = '2024-07-01'\nend_date = '2024-09-30'\ndf = fct_trips[(fct_trips['trip_date'] >= start_date) & (fct_trips['trip_date'] <= end_date)]\n#print(df)\n\n#filter to only >2 riders\nthree_or_more = df[df['rider_count'] > 2]\n#print(three_or_more)\n\n#filter only Uberpool\nUber_pool_three = three_or_more[three_or_more['ride_type'] == 'UberPool']\n#print(Uber_pool_three)\n\n#groupby\n#avg_trip_earn = Uber_pool_three.groupby('trip_id')['total_earnings'].mean().reset_index(name='avg_trip_earnings')\n\n#get avg trip earnings total\navg_trip_earn = Uber_pool_three['total_earnings'].mean()\nprint(avg_trip_earn)"
    },
    {
      "cell_type": "markdown",
      "metadata": {},
      "source": [
        "## Question 2\n\nFor completed UberPool rides between July 1st and September 30th, 2024, derive a new column calculating earnings per mile (total_earnings divided by total_distance) and then compute the average earnings per mile for rides with more than two riders. This calculation will reveal efficiency metrics for driver compensation."
      ]
    },
    {
      "cell_type": "code",
      "metadata": {},
      "execution_count": null,
      "outputs": [],
      "source": "#filter trip_date\nstart_date = '2024-07-01'\nend_date = '2024-09-30'\ndf = fct_trips[(fct_trips['trip_date'] >= start_date) & (fct_trips['trip_date'] <= end_date)]\n#print(df)\n\n#filter only Uberpool\nUber_pool_only = df[df['ride_type'] == 'UberPool']\n\n#earnings per mile columns\nUber_pool_only['earnings_per_mile'] = Uber_pool_only['total_earnings'] / Uber_pool_only['total_distance']\n#print(Uber_pool_only)\n\n#filter to only >2 riders\nthree_or_more = Uber_pool_only[Uber_pool_only['rider_count'] > 2]\n#print(three_or_more)\n\n#avg earnings per mile\navg_earn_per_mile = three_or_more['earnings_per_mile'].mean()\nprint(avg_earn_per_mile)"
    },
    {
      "cell_type": "markdown",
      "metadata": {},
      "source": [
        "## Question 3\n\nIdentify the combination of rider count and total distance that results in the highest average driver earnings per UberPool ride between July 1st and September 30th, 2024. This analysis directly recommends optimal trip combination strategies to maximize driver earnings."
      ]
    },
    {
      "cell_type": "code",
      "metadata": {},
      "execution_count": null,
      "outputs": [],
      "source": "#filter trip_date\nstart_date = '2024-07-01'\nend_date = '2024-09-30'\ndf = fct_trips[(fct_trips['trip_date'] >= start_date) & (fct_trips['trip_date'] <= end_date)]\n#print(df)\n\n#filter only Uberpool\nUber_pool_only = df[df['ride_type'] == 'UberPool']\n\n#groupby \nearn_matrix = Uber_pool_only.groupby(['rider_count','total_distance'])['total_earnings'].mean().reset_index(name='avg_driver_earnings')\n#print(earn_matrix)\n\n#best combo\nprint(earn_matrix.loc[earn_matrix['avg_driver_earnings'].idxmax()])"
    },
    {
      "cell_type": "markdown",
      "metadata": {},
      "source": [
        "Made with ❤️ by [Interview Master](https://www.interviewmaster.ai)"
      ]
    }
  ],
  "metadata": {
    "kernelspec": {
      "name": "python3",
      "language": "python",
      "display_name": "Python 3"
    },
    "language_info": {
      "name": "python",
      "version": "3",
      "mimetype": "text/x-python",
      "file_extension": ".py"
    }
  },
  "nbformat": 4,
  "nbformat_minor": 5
}